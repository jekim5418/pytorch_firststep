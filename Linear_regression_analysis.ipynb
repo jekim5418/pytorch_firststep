{
 "cells": [
  {
   "cell_type": "markdown",
   "metadata": {},
   "source": [
    "# Basis of Deep Learning"
   ]
  },
  {
   "cell_type": "markdown",
   "metadata": {},
   "source": [
    "## Compute gradient"
   ]
  },
  {
   "cell_type": "code",
   "execution_count": null,
   "metadata": {},
   "outputs": [
    {
     "name": "stdout",
     "output_type": "stream",
     "text": [
      "Collecting package metadata (current_repodata.json): done\n",
      "Solving environment: done\n",
      "\n",
      "\n",
      "==> WARNING: A newer version of conda exists. <==\n",
      "  current version: 4.8.4\n",
      "  latest version: 4.9.2\n",
      "\n",
      "Please update conda by running\n",
      "\n",
      "    $ conda update -n base -c defaults conda\n",
      "\n",
      "\n",
      "\n",
      "## Package Plan ##\n",
      "\n",
      "  environment location: /home/zekim/anaconda3/envs/pytorch_first\n",
      "\n",
      "  added / updated specs:\n",
      "    - pytorch\n",
      "\n",
      "\n",
      "The following packages will be downloaded:\n",
      "\n",
      "    package                    |            build\n",
      "    ---------------------------|-----------------\n",
      "    _pytorch_select-0.2        |            gpu_0           2 KB\n",
      "    cffi-1.14.4                |   py36h261ae71_0         223 KB\n",
      "    cudatoolkit-10.0.130       |                0       261.2 MB\n",
      "    cudnn-7.6.5                |       cuda10.0_0       165.0 MB\n",
      "    mkl_fft-1.2.0              |   py36h23d657b_0         149 KB\n",
      "    ninja-1.10.2               |   py36hff7bd54_0         1.4 MB\n",
      "    numpy-1.19.2               |   py36h54aff64_0          22 KB\n",
      "    numpy-base-1.19.2          |   py36hfa32c7d_0         4.1 MB\n",
      "    pytorch-1.3.1              |cuda100py36h53c1284_0       169.0 MB\n",
      "    six-1.15.0                 |   py36h06a4308_0          27 KB\n",
      "    ------------------------------------------------------------\n",
      "                                           Total:       601.1 MB\n",
      "\n",
      "The following NEW packages will be INSTALLED:\n",
      "\n",
      "  _pytorch_select    pkgs/main/linux-64::_pytorch_select-0.2-gpu_0\n",
      "  blas               pkgs/main/linux-64::blas-1.0-mkl\n",
      "  cffi               pkgs/main/linux-64::cffi-1.14.4-py36h261ae71_0\n",
      "  cudatoolkit        pkgs/main/linux-64::cudatoolkit-10.0.130-0\n",
      "  cudnn              pkgs/main/linux-64::cudnn-7.6.5-cuda10.0_0\n",
      "  intel-openmp       pkgs/main/linux-64::intel-openmp-2020.2-254\n",
      "  mkl                pkgs/main/linux-64::mkl-2020.2-256\n",
      "  mkl-service        pkgs/main/linux-64::mkl-service-2.3.0-py36he904b0f_0\n",
      "  mkl_fft            pkgs/main/linux-64::mkl_fft-1.2.0-py36h23d657b_0\n",
      "  mkl_random         pkgs/main/linux-64::mkl_random-1.1.1-py36h0573a6f_0\n",
      "  ninja              pkgs/main/linux-64::ninja-1.10.2-py36hff7bd54_0\n",
      "  numpy              pkgs/main/linux-64::numpy-1.19.2-py36h54aff64_0\n",
      "  numpy-base         pkgs/main/linux-64::numpy-base-1.19.2-py36hfa32c7d_0\n",
      "  pycparser          pkgs/main/noarch::pycparser-2.20-py_2\n",
      "  pytorch            pkgs/main/linux-64::pytorch-1.3.1-cuda100py36h53c1284_0\n",
      "  six                pkgs/main/linux-64::six-1.15.0-py36h06a4308_0\n",
      "\n",
      "\n",
      "Proceed ([y]/n)? "
     ]
    }
   ],
   "source": [
    "!conda install pytorch"
   ]
  },
  {
   "cell_type": "code",
   "execution_count": null,
   "metadata": {},
   "outputs": [],
   "source": [
    "!y"
   ]
  },
  {
   "cell_type": "code",
   "execution_count": null,
   "metadata": {},
   "outputs": [],
   "source": []
  },
  {
   "cell_type": "code",
   "execution_count": null,
   "metadata": {},
   "outputs": [],
   "source": []
  }
 ],
 "metadata": {
  "kernelspec": {
   "display_name": "Python 3",
   "language": "python",
   "name": "python3"
  },
  "language_info": {
   "codemirror_mode": {
    "name": "ipython",
    "version": 3
   },
   "file_extension": ".py",
   "mimetype": "text/x-python",
   "name": "python",
   "nbconvert_exporter": "python",
   "pygments_lexer": "ipython3",
   "version": "3.6.12"
  }
 },
 "nbformat": 4,
 "nbformat_minor": 4
}
