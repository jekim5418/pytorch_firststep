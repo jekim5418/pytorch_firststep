{
 "cells": [
  {
   "cell_type": "markdown",
   "metadata": {},
   "source": [
    "# Basis of Convolution Neural Network\n",
    "### CNN with MNIST"
   ]
  },
  {
   "cell_type": "markdown",
   "metadata": {},
   "source": [
    "#### feature map size = floor((I-K+2P)/S+1), where I : image size, K : filter size, S : stride, P : padding"
   ]
  },
  {
   "cell_type": "code",
   "execution_count": 4,
   "metadata": {},
   "outputs": [],
   "source": [
    "# import module and initialize hyper-parameters\n",
    "import torch\n",
    "import torch.nn as nn\n",
    "import torch.optim as optim\n",
    "import torch.nn.init as init\n",
    "import torchvision.datasets as dset   # torchvision module which reads data\n",
    "import torchvision.transforms as transforms  # torchvision module which transform loaded image\n",
    "from torch.utils.data import DataLoader"
   ]
  },
  {
   "cell_type": "code",
   "execution_count": 5,
   "metadata": {},
   "outputs": [
    {
     "name": "stdout",
     "output_type": "stream",
     "text": [
      "Downloading http://yann.lecun.com/exdb/mnist/train-images-idx3-ubyte.gz to ./MNIST/raw/train-images-idx3-ubyte.gz\n"
     ]
    },
    {
     "name": "stderr",
     "output_type": "stream",
     "text": [
      "100.1%"
     ]
    },
    {
     "name": "stdout",
     "output_type": "stream",
     "text": [
      "Extracting ./MNIST/raw/train-images-idx3-ubyte.gz to ./MNIST/raw\n",
      "Downloading http://yann.lecun.com/exdb/mnist/train-labels-idx1-ubyte.gz to ./MNIST/raw/train-labels-idx1-ubyte.gz\n"
     ]
    },
    {
     "name": "stderr",
     "output_type": "stream",
     "text": [
      "113.5%"
     ]
    },
    {
     "name": "stdout",
     "output_type": "stream",
     "text": [
      "Extracting ./MNIST/raw/train-labels-idx1-ubyte.gz to ./MNIST/raw\n",
      "Downloading http://yann.lecun.com/exdb/mnist/t10k-images-idx3-ubyte.gz to ./MNIST/raw/t10k-images-idx3-ubyte.gz\n"
     ]
    },
    {
     "name": "stderr",
     "output_type": "stream",
     "text": [
      "100.4%"
     ]
    },
    {
     "name": "stdout",
     "output_type": "stream",
     "text": [
      "Extracting ./MNIST/raw/t10k-images-idx3-ubyte.gz to ./MNIST/raw\n",
      "Downloading http://yann.lecun.com/exdb/mnist/t10k-labels-idx1-ubyte.gz to ./MNIST/raw/t10k-labels-idx1-ubyte.gz\n"
     ]
    },
    {
     "name": "stderr",
     "output_type": "stream",
     "text": [
      "180.4%"
     ]
    },
    {
     "name": "stdout",
     "output_type": "stream",
     "text": [
      "Extracting ./MNIST/raw/t10k-labels-idx1-ubyte.gz to ./MNIST/raw\n",
      "Processing...\n",
      "Done!\n"
     ]
    }
   ],
   "source": [
    "batch_size = 256\n",
    "learning_rate = 0.0002\n",
    "num_epoch = 10\n",
    "\n",
    "# load dataset\n",
    "mnist_train = dset.MNIST('./', train = True, transform = transforms.ToTensor(), target_transform = None, download = True) # transform : transfomation of image, target_transform : transformation of label\n",
    "mnist_test = dset.MNIST('./', train = False, transform = transforms.ToTensor(), target_transform = None, download = True)\n",
    "\n",
    "\n",
    "train_loader = torch.utils.data.DataLoader(mnist_train, batch_size = batch_size, shuffle = True, num_workers = 2, drop_last = True) \n",
    "test_loader = torch.utils.data.DataLoader(mnist_test, batch_size = batch_size, shuffle = False, num_workers = 2, drop_last = True)"
   ]
  },
  {
   "cell_type": "code",
   "execution_count": 10,
   "metadata": {},
   "outputs": [],
   "source": [
    "# build CNN\n",
    "class CNN(nn.Module):\n",
    "    def __init__(self):\n",
    "        super(CNN,self).__init__()\n",
    "        self.layer = nn.Sequential(\n",
    "            nn.Conv2d(1, 16, 5),\n",
    "            nn.ReLU(),\n",
    "            nn.Conv2d(16, 32, 5),\n",
    "            nn.ReLU(),\n",
    "            nn.MaxPool2d(2, 2),\n",
    "            nn.Conv2d(32, 64, 5),\n",
    "            nn.ReLU(),\n",
    "            nn.MaxPool2d(2, 2)\n",
    "        )\n",
    "        self.fc_layer = nn.Sequential(\n",
    "            nn.Linear(64*3*3, 100),\n",
    "            nn.ReLU(),\n",
    "            nn.Linear(100, 10),\n",
    "        )\n",
    "        \n",
    "    def forward(self, x):\n",
    "        out = self.layer(x)\n",
    "        out = out.view(batch_size, -1)\n",
    "        out = self.fc_layer(out)\n",
    "        \n",
    "        return out"
   ]
  },
  {
   "cell_type": "code",
   "execution_count": 11,
   "metadata": {},
   "outputs": [
    {
     "name": "stdout",
     "output_type": "stream",
     "text": [
      "tensor(2.3005, device='cuda:0', grad_fn=<NllLossBackward>)\n",
      "tensor(0.2530, device='cuda:0', grad_fn=<NllLossBackward>)\n",
      "tensor(0.1471, device='cuda:0', grad_fn=<NllLossBackward>)\n",
      "tensor(0.1329, device='cuda:0', grad_fn=<NllLossBackward>)\n",
      "tensor(0.0790, device='cuda:0', grad_fn=<NllLossBackward>)\n",
      "tensor(0.0638, device='cuda:0', grad_fn=<NllLossBackward>)\n",
      "tensor(0.0489, device='cuda:0', grad_fn=<NllLossBackward>)\n",
      "tensor(0.0655, device='cuda:0', grad_fn=<NllLossBackward>)\n",
      "tensor(0.0280, device='cuda:0', grad_fn=<NllLossBackward>)\n",
      "tensor(0.0230, device='cuda:0', grad_fn=<NllLossBackward>)\n"
     ]
    }
   ],
   "source": [
    "# initialize model and loss function\n",
    "device = torch.device(\"cuda:0\" if torch.cuda.is_available() else \"cpu\")\n",
    "model = CNN().to(device)\n",
    "loss_func = nn.CrossEntropyLoss()\n",
    "optimizer = torch.optim.Adam(model.parameters(), lr = learning_rate)\n",
    "\n",
    "# training\n",
    "loss_arr = []\n",
    "for i in range(num_epoch):\n",
    "    for j, [image, label]in enumerate(train_loader):\n",
    "        x = image.to(device)\n",
    "        y_ = label.to(device)\n",
    "        \n",
    "        optimizer.zero_grad()\n",
    "        output = model.forward(x)\n",
    "        loss = loss_func(output, y_)\n",
    "        loss.backward()\n",
    "        optimizer.step()\n",
    "        \n",
    "        if j%1000 == 0 :\n",
    "            print(loss)\n",
    "            loss_arr.append(loss.cpu().detach().numpy())"
   ]
  },
  {
   "cell_type": "code",
   "execution_count": 13,
   "metadata": {},
   "outputs": [
    {
     "name": "stdout",
     "output_type": "stream",
     "text": [
      "Accuracy of Test Data: 98.8581771850586\n"
     ]
    }
   ],
   "source": [
    "# validate trained model with validation data\n",
    "correct = 0  # the number of correct\n",
    "total = 0  #\n",
    "\n",
    "with torch.no_grad():\n",
    "    for image, label in test_loader :\n",
    "        x = image.to(device)\n",
    "        y_ = label.to(device)\n",
    "        \n",
    "        output = model.forward(x)\n",
    "        _, output_index = torch.max(output, 1)\n",
    "        \n",
    "        total += label.size(0)\n",
    "        correct += (output_index == y_).sum().float()\n",
    "        \n",
    "    print('Accuracy of Test Data: {}'.format(100*correct/total))"
   ]
  },
  {
   "cell_type": "markdown",
   "metadata": {},
   "source": [
    "### Naive VGG16"
   ]
  },
  {
   "cell_type": "code",
   "execution_count": 15,
   "metadata": {},
   "outputs": [],
   "source": [
    "# Since VGG16 consists of 2 parts where the convolution operation is repeated 2 times, 3 parts that are repeated 3 times, build conv_2_block and conv_3_block first\n",
    "def conv_2_block(in_dim, out_dim):\n",
    "    model = nn.Sequential(\n",
    "            nn.Conv2d(in_dim, out_dim, kernel_size = 3, padding = 1),\n",
    "            nn.ReLU(),\n",
    "            nn.Conv2d(out_dim, out_dim, kernel_size = 3, padding = 1),\n",
    "            nn.ReLU(),\n",
    "            nn.MaxPool2d(2, 2)\n",
    "    )\n",
    "    \n",
    "    return model\n",
    "    \n",
    "def conv_3_block(in_dim, out_dim):\n",
    "    model = nn.Sequential(\n",
    "            nn.Conv2d(in_dim, out_dim, kernel_size = 3, padding = 1),\n",
    "            nn.ReLU(),\n",
    "            nn.Conv2d(out_dim, out_dim, kernel_size = 3, padding = 1),\n",
    "            nn.ReLU(),\n",
    "            nn.Conv2d(out_dim, out_dim, kernel_size = 3, padding = 1),\n",
    "            nn.ReLU(),\n",
    "            nn.MaxPool2d(2, 2)\n",
    "    )\n",
    "    \n",
    "    return model"
   ]
  },
  {
   "cell_type": "code",
   "execution_count": 17,
   "metadata": {},
   "outputs": [],
   "source": [
    "# building VGG16 net\n",
    "class VGG(nn.Module):\n",
    "    \n",
    "    def __init__(self, base_dim, num_classes=2):\n",
    "        super(VGG, self).__init__()\n",
    "        self.feature = nn.Sequential(\n",
    "            conv_2_block(3, base_dim),\n",
    "            conv_2_block(base_dim, 2*base_dim),\n",
    "            conv_3_block(2*base_dim, 4*base_dim),\n",
    "            conv_3_block(4*base_dim, 8*base_dim),\n",
    "            conv_3_block(8*base_dim, 8*base_dim),\n",
    "        )\n",
    "        \n",
    "        \n",
    "        self.fc_layer = nn.Sequential(\n",
    "            nn.Linear(8*base_dim * 7 * 7, 100),\n",
    "            nn.ReLU(True),\n",
    "            nn.Linear(100, 20),\n",
    "            nn.ReLU(True),\n",
    "            nn.Linear(20, num_classes),\n",
    "        )\n",
    "        \n",
    "    def forward(self, x):\n",
    "        x = self.feature(x)\n",
    "        x = x.view(x.size(0), -1)\n",
    "        x = self.fc_layer(x)\n",
    "        \n",
    "        return x\n",
    "        "
   ]
  },
  {
   "cell_type": "code",
   "execution_count": 20,
   "metadata": {},
   "outputs": [],
   "source": [
    "# Pytorch official VGG16 Net\n",
    "\n",
    "class VGG(nn.Module):\n",
    "    \n",
    "    def __init__(self, features, num_classes = 1000, init_weights=True):\n",
    "        super(VGG, self).__init__()\n",
    "        self.features = features\n",
    "        self.avgpool = nn.AdaptiveAvgPool2d((7, 7))\n",
    "        self.classifier = nn.Sequential(\n",
    "            nn.Linear(512 * 7 * 7,4096),\n",
    "            nn.ReLU(True),\n",
    "            nn.Linear(4096, 4096),\n",
    "            nn.ReLU(True),\n",
    "            nn.Linear(4096, num_classes),\n",
    "        )\n",
    "        if init_weights:\n",
    "            self._initialize_weights()\n",
    "            \n",
    "    def forward(self, x):\n",
    "        x = self.features(x)\n",
    "        x = self.avgpool(x)\n",
    "        x = x.view(x.size(0), -1)  # flatten x according to batch_size\n",
    "        x = self.classifier(x)\n",
    "        \n",
    "        return x\n",
    "    \n",
    "    def _initialize_weights(self):\n",
    "        for m in self.modules():\n",
    "            if isinstance(m, nn.Conv2d):\n",
    "                nn.init.kaiming_normal_(m.weight, mode = 'fan_out', nonlinearlity = 'relu')\n",
    "                if m.bias is not None:\n",
    "                    nn.init.constant_(m.bias, 0)\n",
    "            elif isinstance(m, nn.BatchNorm2d):\n",
    "                nn.init.constant_(m.weight, 1)\n",
    "                nn.init.constant_(m.bias, 0)\n",
    "            elif isinstance(m, nn.Linear):\n",
    "                nn.init.normal_(m.weight, 0, 0.01)\n",
    "                nn.init.constant_(m.bias, 0)\n",
    "                \n",
    "    def make_layers(cfg, batch_norm = False):\n",
    "        layer = []\n",
    "        in_channels = 3\n",
    "        for v in cfg :\n",
    "            if v == 'M':\n",
    "                layers += [nn.MaxPool2d(kernel_size = 2, stride = 2)]\n",
    "            else : \n",
    "                conv2d = nn.Conv2d(in_channels, v, kernel_size = 3, padding = 1)\n",
    "                if batch_norm :\n",
    "                    layers += [conv2d, nn.BatchNorm2d(v), nn.ReLU(inplace = True)]\n",
    "                else :\n",
    "                    layers += [conv2d, nn.ReLU(inplace = True)]\n",
    "                in_channels = v\n",
    "        \n",
    "        return nn.Sequential(*layers)\n",
    "    \n",
    "# configs\n",
    "cfgs = {\n",
    "    'A': [64, 'M', 128, 'M', 256, 256, 'M', 512, 512, 'M', 512, 512, 'M'],\n",
    "    'B': [64, 64, 'M', 128, 128, 'M', 256, 256, 'M', 512, 512, 'M', 512, 512, 'M'],\n",
    "    'D': [64, 64, 'M', 128, 128, 'M', 256, 256, 256, 'M', 512, 512, 512, 'M', 512, 512, 512, 'M'],\n",
    "    'E': [64, 64, 'M', 128, 128, 'M', 256, 256, 256, 256, 'M', 512, 512, 512, 512, 'M', 512, 512, 512, 512, 'M']}"
   ]
  },
  {
   "cell_type": "markdown",
   "metadata": {},
   "source": [
    "### GoogLeNet"
   ]
  },
  {
   "cell_type": "code",
   "execution_count": 21,
   "metadata": {},
   "outputs": [],
   "source": [
    "# building inception moduel in GoogLeNet\n",
    "\n",
    "# 1*1 conv layer in GoogLeNet\n",
    "def conv_1(in_dim, out_dim):\n",
    "    model = nn.Sequential(\n",
    "        nn.Conv2d(in_dim, out_dim, 1, 1),\n",
    "        nn.ReLU(),\n",
    "    )\n",
    "    \n",
    "    return model\n",
    "\n",
    "# 1*1 conv -> 3*3 conv layer in GoogLeNet\n",
    "def conv_1_3(in_dim, mid_dim, out_dim):\n",
    "    model = nn.Sequential(\n",
    "        nn.Conv2d(in_dim, mid_dim, 1, 1),\n",
    "        nn.ReLU(),\n",
    "        nn.Conv2d(mid_dim, out_dim, 3, 1, 1),\n",
    "        nn.ReLU(),\n",
    "    )\n",
    "    \n",
    "    return model\n",
    "\n",
    "def conv_1_5(in_dim, mid_dim, out_dim):\n",
    "    model = nn.Sequential(\n",
    "        nn.Conv2d(in_dim, mid_dim, 1, 1),\n",
    "        nn.ReLU(),\n",
    "        nn.Conv2d(mid_dim, out_dim, 5, 1, 2),\n",
    "        nn.ReLU(),\n",
    "    )\n",
    "    \n",
    "    return model\n",
    "\n",
    "def max_3_1(in_dim, out_dim):\n",
    "    model = nn.Sequential(\n",
    "        nn.MaxPool2d(3, 1, 1),\n",
    "        nn.Conv2d(in_dim, out_dim, 1, 1),\n",
    "        nn.ReLU(),\n",
    "    )\n",
    "    \n",
    "    return model"
   ]
  },
  {
   "cell_type": "code",
   "execution_count": 22,
   "metadata": {},
   "outputs": [],
   "source": [
    "# modeling inception module\n",
    "class inception_module(nn.Module):\n",
    "    \n",
    "    def __init__(self, in_dim, out_dim_1, mid_dim_3, out_dim_3, mid_dim_5, out_dim_5, pool):\n",
    "        super(inception_module, self).__init__()\n",
    "        \n",
    "        self.conv_1 = conv_1(in_dim, out_dim_1)\n",
    "        self.conv_1_3 = conv_1_3(in_dim, mid_dim_3, out_dim_3)\n",
    "        self.conv_1_5 = conv_1_5(in_dim, mid_dim_5, out_dim_5)\n",
    "        self.max_3_1 = max_3_1(in_dim, pool)\n",
    "        \n",
    "    def forward(self, x):\n",
    "        out_1 = self.conv_1(x)\n",
    "        out_2 = self.conv_1_3(x)\n",
    "        out_3 = self.conv_1_5(x)\n",
    "        out_4 = self.max_3_1(x)\n",
    "        output = torch.cat([out_1, out_2, out_3, out_4], 1)\n",
    "        \n",
    "        return output\n",
    "        "
   ]
  },
  {
   "cell_type": "code",
   "execution_count": 24,
   "metadata": {},
   "outputs": [],
   "source": [
    "# constructing GoogLeNet\n",
    "class GoogLeNet(nn.Module):\n",
    "    \n",
    "    def __init__(self, base_dim, num_classes = 2):\n",
    "        super(GoogLeNet, self).__init__()\n",
    "        self.layer_1 = nn.Sequential(\n",
    "            nn.Conv2d(3, base_dim, 7, 2, 3),\n",
    "            nn.MaxPool2d(3, 2, 1),\n",
    "            nn.Conv2d(base_dim, base_dim*3, 3, 1, 1),\n",
    "            nn.MaxPool2d(3, 2, 1),\n",
    "        )\n",
    "        \n",
    "        self.layer_2 = nn.Sequential(\n",
    "            inception_module(base_dim * 3, 64, 96, 128, 16, 32, 32),\n",
    "            inception_module(base_dim * 4, 128, 128, 192, 32, 96, 64),\n",
    "            nn.MaxPool2d(3, 2, 1),\n",
    "        )\n",
    "        \n",
    "        self.layer_3 = nn.Sequential(\n",
    "            inception_module(480, 192, 96, 208, 16, 48, 64),\n",
    "            inception_module(512, 160, 112, 224, 24, 64, 64),\n",
    "            inception_module(512, 128, 128, 256, 24, 64, 64),\n",
    "            inception_module(512, 112, 144, 288, 32, 64, 64),\n",
    "            inception_module(528, 256, 160, 320, 32, 128, 128),\n",
    "            nn.MaxPool2d(3, 2, 1),\n",
    "        )\n",
    "        \n",
    "        self.layer_4 = nn.Sequential(\n",
    "            inception_module(832, 256, 160, 320, 32, 128, 128),\n",
    "            inception_module(832, 384, 192, 384, 48, 128, 128),\n",
    "            nn.AvgPool2d(7, 1),\n",
    "        )\n",
    "        \n",
    "        self.layer_5 = nn.Dropout2d(0.4)\n",
    "        self.fc_layer = nn.Linear(1024, 1000)\n",
    "        \n",
    "    def forward(self, x):\n",
    "        out = self.layer_1(x)\n",
    "        out = self.layer_2(out)\n",
    "        out = self.layer_3(out)\n",
    "        out = self.layer_4(out)\n",
    "        out = self.layer_5(out)\n",
    "        out = out.view(batch_size, -1)\n",
    "        out = self.fc_layer(out)\n",
    "        \n",
    "        return out"
   ]
  },
  {
   "cell_type": "markdown",
   "metadata": {},
   "source": [
    "### ResNet"
   ]
  },
  {
   "cell_type": "code",
   "execution_count": 26,
   "metadata": {},
   "outputs": [],
   "source": [
    "# basic conv block\n",
    "def conv_block_1(in_dim, out_dim, act_fn, stride = 1):\n",
    "    model = nn.Sequential(\n",
    "        nn.Conv2d(in_dim, out_dim, kernel_size = 1, stride = stride),\n",
    "        act_fn,\n",
    "    )\n",
    "    \n",
    "    return model\n",
    "\n",
    "def conv_block_3(in_dim, out_dim, act_fn):\n",
    "    model = nn.Sequential(\n",
    "        nn.Conv2d(in_dim, out_dim, kernel_size = 3, stride = 1, padding = 1),\n",
    "        act_fn,\n",
    "    )\n",
    "    \n",
    "    return model\n",
    "\n",
    "class BottleNeck(nn.Module):\n",
    "    \n",
    "    def __init__(self, in_dim, mid_dim, out_dim, act_fn, down = False):\n",
    "        super(BottleNeck, self).__init()\n",
    "        self.act_fn = act_fn\n",
    "        self.down = down\n",
    "        \n",
    "        if self.down:\n",
    "            self.layer = nn.Sequential(\n",
    "                conv_block_1(in_dim, mid_dim, act_fn, 2),\n",
    "                conv_block_3(mid_dim, mid_dim, act_fn),\n",
    "                conv_block_1(mid_dim, out_dim, act_fn),\n",
    "            )\n",
    "            self.downsample = nn.Conv2d(in_dim, out_dim, 1, 2)\n",
    "        else :\n",
    "            self.layer = nn.Sequential(\n",
    "                conv_block_1(in_dim, mid_dim, act_fn),\n",
    "                conv_block_3(mid_dim, mid_dim, act_fn),\n",
    "                conv_block_1(mid_dim, out_dim, act_fn),\n",
    "            )\n",
    "            self.dim_equalizer = nn.Conv2d(in_dim, out_dim, kernel_size = 1)\n",
    "            \n",
    "    def forward(self, x):\n",
    "        if self.down:\n",
    "            downsample = self.downsample(x)\n",
    "            out = self.layer(x)\n",
    "            out = out + downsample\n",
    "            \n",
    "        else :\n",
    "            out = self.layer(x)\n",
    "            if x.size() is not out.size():\n",
    "                x = self.dim_equailizer(x)\n",
    "            out = out + x\n",
    "            \n",
    "        return out\n",
    "    \n",
    "class ResNet(nn.Module):\n",
    "    \n",
    "    def __init__(self, base_dim, num_classes = 2):\n",
    "        super(ResNet, self).__init__()\n",
    "        self.act_fn = nn.ReLU()\n",
    "        self.layer_1 = nn.Sequential(\n",
    "            nn.Conv2d(3, base_dim, 7, 2, 3),\n",
    "            nn.ReLU(),\n",
    "            nn.MaxPool(3, 2, 1),\n",
    "        )\n",
    "        self.layer_2 = nn.Sequential(\n",
    "            BottleNeck(base_dim, base_dim, base_dim * 4, self.act_fn),\n",
    "            BottleNeck(base_dim * 4, base_dim, base_dim * 4, self.act_fn),\n",
    "            BottleNeck(base_dim * 4, base_dim, base_dim *4, self.act_fn, down = True),\n",
    "            \n",
    "        )\n",
    "        self.layer_3 = nn.Sequential(\n",
    "            BottleNeck(base_dim * 4, base_dim * 2, base_dim * 8, self.act_fn),\n",
    "            BottleNeck(base_dim * 8, base_dim * 2, base_dim * 8, self.act_fn),\n",
    "            BottleNeck(base_dim * 8, base_dim * 2, base_dim * 8, self.act_fn),\n",
    "            BottleNeck(base_dim * 8, base_dim * 2, base_dim * 8, self.act_fn, down = True),\n",
    "            )\n",
    "        self.layer_4 = nn.Sequential(\n",
    "            BottleNeck(base_dim * 8, base_dim * 4, base_dim * 16, self.act_fn),\n",
    "            BottleNeck(base_dim * 16, base_dim * 4, base_dim * 16, self.act_fn),\n",
    "            BottleNeck(base_dim * 16, base_dim * 4, base_dim * 16, self.act_fn),\n",
    "            BottleNeck(base_dim * 16, base_dim * 4, base_dim * 16, self.act_fn),\n",
    "            BottleNeck(base_dim * 16, base_dim * 4, base_dim * 16, self.act_fn),\n",
    "            BottleNeck(base_dim * 16, base_dim * 4, base_dim * 16, self.act_fn, down = True),\n",
    "            )\n",
    "        self.layer_5 = nn.Sequential(\n",
    "            BottleNeck(base_dim * 16, base_dim * 8, base_dim * 32, self.act_fn),\n",
    "            BottleNeck(base_dim * 32, base_dim * 8, base_dim * 32, self.act_fn),\n",
    "            BottleNeck(base_dim * 32, base_dim * 8, base_dim * 32, self.act_fn),\n",
    "            )\n",
    "        self.avgpool = nn.AvgPool2d(7, 1)\n",
    "        self.fc_layer = nn.Linear(base_dim * 32, num_classes)\n",
    "        \n",
    "    def forward(self, x):\n",
    "        out = self.layer_1(x)\n",
    "        out = self.layer_2(out)\n",
    "        out = self.layer_3(out)\n",
    "        out = self.layer_4(out)\n",
    "        out = self.layer_5(out)\n",
    "        out = self.avgpool(out)\n",
    "        out = out.view(batch_size, -1)\n",
    "        out = self.fc_layer(out)\n",
    "        \n",
    "        return out\n"
   ]
  }
 ],
 "metadata": {
  "kernelspec": {
   "display_name": "Python 3",
   "language": "python",
   "name": "python3"
  },
  "language_info": {
   "codemirror_mode": {
    "name": "ipython",
    "version": 3
   },
   "file_extension": ".py",
   "mimetype": "text/x-python",
   "name": "python",
   "nbconvert_exporter": "python",
   "pygments_lexer": "ipython3",
   "version": "3.6.10"
  }
 },
 "nbformat": 4,
 "nbformat_minor": 4
}
